{
 "cells": [
  {
   "cell_type": "markdown",
   "metadata": {
    "slideshow": {
     "slide_type": "slide"
    }
   },
   "source": [
    "<center><h2 style=\"color:#A48477\" >Implémentation en Python d'une</h2>\n",
    "<h1 style=\"color:#EA671B\">Fonction de découpage optimisé de tubes</h1>\n",
    "<h2 style=\"color:#A48477\"> en Terminale NSI</h2>\n",
    "<h6 style=\"color:#A48477\">Algorithme glouton, fonction récursive, vers une programmation dynamique...</h6></center>\n",
    "<img src=\"https://ericecmorlaix.github.io/img/ECAM-Lycee-Notre-Dame-Du-Mur.png\" alt=\"Logo du Lycee Notre Dame Du Mur\" width=40% style = \"display:inline-block;float: right;\">\n",
    "<br>\n",
    "<h3 style=\"color:#A48477\">par Eric MADEC</h3>\n",
    "    "
   ]
  },
  {
   "cell_type": "markdown",
   "metadata": {
    "slideshow": {
     "slide_type": "skip"
    }
   },
   "source": [
    "<h1 style=\"color:#EA671B\">Contexte :</h1> "
   ]
  },
  {
   "cell_type": "markdown",
   "metadata": {
    "slideshow": {
     "slide_type": "slide"
    }
   },
   "source": [
    "<center><img src=\"https://ericecmorlaix.github.io/img/DU-ESNSI_S5-contexte.svg\" alt=\"DU-ESNSI_S5-contexte.svg\" width = 90% height=100% ></center>"
   ]
  },
  {
   "cell_type": "markdown",
   "metadata": {
    "slideshow": {
     "slide_type": "slide"
    }
   },
   "source": [
    "<h1 style=\"color:#EA671B\">Première solution pour la fonction de découpage de tubes :</h1>\n",
    "\n",
    "<p style=\"color:#A48477\">Il s'agit d'un programme itératif naïf fourni aux élèves pour cette évaluation de fin de première.</p>"
   ]
  },
  {
   "cell_type": "code",
   "execution_count": 7,
   "metadata": {
    "slideshow": {
     "slide_type": "-"
    }
   },
   "outputs": [
    {
     "name": "stdout",
     "output_type": "stream",
     "text": [
      " Le nombre de barres utilisées est de : 5 barres\n"
     ]
    }
   ],
   "source": [
    "def calc_chute(l_com,long_stand):\n",
    "    nb_barres=1\n",
    "    nb_troncon=0\n",
    "    barre=3\n",
    "    i=0 \n",
    "    while True:\n",
    "            a1=long_stand[i]\n",
    "            nb_com=l_com[i]\n",
    "            barre-=long_stand[i]\n",
    "            nb_troncon+=1\n",
    "            #print(\" n \",i,\" \",a1, \" \",nb_com,\" l_barre\",round(barre,1),\" \",\"tronçons = \",nb_troncon,\" \",\" nb barres = \",nb_barres)           \n",
    "            if long_stand[i]>=barre:\n",
    "                barre=3\n",
    "                nb_barres+=1\n",
    "            if (nb_troncon==l_com[i] and i<(len(l_com)-1)):\n",
    "                i+=1\n",
    "                nb_troncon=0\n",
    "                #print(\"ok\")\n",
    "            if (long_stand[i]<barre and nb_troncon>=l_com[i]):\n",
    "                break\n",
    "\n",
    "    return(nb_barres)\n",
    "\n",
    "l_com =[3,2,3,1]\n",
    "long_stand =[0.6,0.8,1.1,2.3] \n",
    "nombre_barres=calc_chute(l_com,long_stand)\n",
    "print(f' Le nombre de barres utilisées est de : {nombre_barres} barres')"
   ]
  },
  {
   "cell_type": "markdown",
   "metadata": {
    "slideshow": {
     "slide_type": "skip"
    }
   },
   "source": [
    "# Pour mémoire, travail demandé à cette évaluation :\n",
    "\n",
    "## Questionnement de la partie 1 de l'évaluation :\n",
    "On donne une solution algorithmique de l'optimisation sous forme de script python (annexe 1 : script de la solution1.ipynb) \n",
    "1.\tCharger le fichier solution1.ipynb dans votre NoteBook et tester le script en ayant au préalable modifié à partir de la commande présente dans le fichier commande_1.csv de manière à respecter les commandes suivantes :\n",
    "    -\t3 pièces de 0,6m\n",
    "    -\t2 pièces de 0,8m\n",
    "    -\t3 pièces de 1,1m\n",
    "    -\t1 pièce de 2,3m\n",
    "2.\tRelever les constructions élémentaires présentes dans le script proposé\n",
    "3.\tCommenter le script de la fonction proposée (calc_chute) en décrivant les préconditions sur les arguments et les post conditions sur les résultats.\n",
    "4.\tMontrer qu'une des boucles de la fonction \"tri_longueurs_demandees\" se termine bien en identifiant un variant de boucle.\n",
    "5.\tEstimer la complexité de la fonction \"tri_longueurs_demandees\" comportant deux structures imbriquées, un tableau de complexités de référence étant donné...\n",
    "\n",
    "## Questionnement de la partie 2 de l’évaluation :\n",
    "On donne une solution algorithmique de l'optimisation sous forme de script python (annexe 1 : script de la solution1.ipynb) \n",
    "\n",
    "Proposer une modification de la fonction \"calc_chute\" (obligatoire) ainsi que de la fonction \"tri_longueurs_demandees\" (si nécessaire) du script précédent de manière à obtenir un résultat optimisé en termes de barres consommées afin de réduire la matière perdue. \n",
    "\n",
    "La solution devra être choisie parmi les algorithmes classiques vus au cours de l'année.\n",
    "\n",
    "# Compétences évaluées\n",
    "\n",
    "\n",
    "- mettre en évidence un corpus de constructions élémentaires ;\n",
    "- Prototyper une fonction ;\n",
    "- Décrire les préconditions sur les arguments ;\n",
    "- Décrire les postconditions sur les résultats ;\n",
    "- Utiliser un  jeu de tests.\n",
    "\n",
    "\n",
    "- Montrer la terminaison à l'aide d'un variant de boucle ;\n",
    "- résoudre un problème grâce à un algorithme glouton.\n",
    "\n",
    "# Critères d'évaluation:\n",
    "1. L'élève a su mettre en évidence (en commentant le script), dans le corpus du programme proposé, les constructions élémentaires suivantes :(4 points)\n",
    " - les affectations ;\n",
    " - les structures conditionnelles ;\n",
    " - les boucles non bornées ;\n",
    " - les boucles bornées ;\n",
    " - les appels de fonction.\n",
    "\n",
    "2. L'élève a su commenter le script de la fonction proposée au format docstring de manière à décrire sa spécification sous forme de prédicats ou sous forme verbale (4 points)\n",
    "    - L'élève a décrit les préconditions sur les arguments ;\n",
    "    - L'élève a décrit ce que réalise la fonction ;\n",
    "    - L'élève a décrit les postconditions sur les résultats.\n",
    "    \n",
    "    \n",
    "    \n",
    "3. L'élève a su montrer la terminaison de la boucle spécifiée en  prennant appui sur un variant de boucle. (1,5 points)\n",
    "\n",
    "4. L'élève a produit une solution qui consomme moins de barres que la solution de départ en utilisant les jeux de tests proposés (commandes de la semaine). (2 points)\n",
    "\n",
    "5. L'élève a produit un algorithme de type glouton tel que étudié pendant l'année. (2 points)\n",
    "\n",
    "6. Le tableau des complexités de référence étant donné, l'élève a su comparer les deux solutions (celle donnée initialement et celle qu'il a produite) en s'appuyant sur les notions vues au cours de l'année. (1,5 points)\n",
    "\n",
    "\n",
    "\n",
    "7. Le code est bien documenté. (2 points)\n",
    "\n",
    "8. la modularité est présente sous la forme de fonctions correctement prototypées. (2 points)\n",
    "    \n"
   ]
  },
  {
   "cell_type": "markdown",
   "metadata": {
    "slideshow": {
     "slide_type": "skip"
    }
   },
   "source": [
    "# Pour mémoire, solution proposée en correction fin de Première\n",
    "\n",
    "Une des solutions à notre problématique est basée sur un algorithme de type glouton. Elle permet de rendre pertinent la comparaison entre les 3 solutions (solution de départ donnée à l'élève, solution trouvée par l'élève, la solution proposée lors de la correction."
   ]
  },
  {
   "cell_type": "code",
   "execution_count": null,
   "metadata": {
    "slideshow": {
     "slide_type": "skip"
    }
   },
   "outputs": [],
   "source": [
    "# algo glouton solution \n",
    "def greedyMethod(long_stand,l_com,solution,barre_reste,total_troncons,nb_barre):\n",
    "    nb_troncons=l_com[0]\n",
    "    if barre_reste < long_stand[0]:\n",
    "        nb_barre+=1\n",
    "        barre_reste=3\n",
    "    if total_troncons == 0:\n",
    "        return nb_barre\n",
    "    while nb_troncons >= 0:\n",
    "        nb_troncons-=1\n",
    "        barre_reste-=long_stand[0]\n",
    "        total_troncons-=1\n",
    "        if barre_reste < long_stand[0] and nb_troncons > 0:\n",
    "            nb_barre+=1\n",
    "            barre_reste=3\n",
    "        solution.append(round(barre_reste,1))\n",
    "    else:\n",
    "        return greedyMethod(long_stand[1:len(long_stand)],l_com[1:len(l_com)],solution,barre_reste,total_troncons,nb_barre)\n",
    "\n",
    "def initial_donnees(long_stand,l_com):\n",
    "    nb_barre=1\n",
    "    barre_reste=3\n",
    "    solution=[]\n",
    "    total_troncons=sum(l_com)\n",
    "    if l_com==[] or long_stand==[]:\n",
    "        print('Vous êtes trompés en entrant les données')\n",
    "    else:\n",
    "        return greedyMethod(long_stand,l_com,solution,barre_reste,total_troncons,nb_barre)\n",
    "\n",
    "l_com =[3,2,3,1]\n",
    "long_stand =[0.6,0.8,1.1,2.3]\n",
    "print(\" le nombre de barres proposé par la méthode gloutonne est:\",initial_donnees(long_stand,l_com))"
   ]
  },
  {
   "cell_type": "markdown",
   "metadata": {
    "slideshow": {
     "slide_type": "slide"
    }
   },
   "source": [
    "<h1 style=\"color:#EA671B\">Nouvelle solution pour la fonction de découpage de tubes :</h1>\n",
    "\n",
    "<p style=\"color:#A48477\">Il s'agit cette fois d'une programmation récursive implémentant un algorithme glouton.</p>"
   ]
  },
  {
   "cell_type": "code",
   "execution_count": 2,
   "metadata": {},
   "outputs": [],
   "source": [
    "def decoupe(r, L, l, n, a, b, c, d) :\n",
    "    L = round(L - l, 1)\n",
    "    if L < 0.6 :\n",
    "        r = round(r + L,1)\n",
    "        n = n + 1\n",
    "        return decoupe(r, 3.0, 0.0, n, a, b, c, d)\n",
    "    elif L < 0.8 and a > 0 :\n",
    "        a = a - 1\n",
    "        return decoupe(r, L, 0.6, n, a, b, c, d)\n",
    "    elif L < 1.1 and b > 0 :\n",
    "        b = b - 1\n",
    "        return decoupe(r, L, 0.8, n, a, b, c, d)\n",
    "    elif L < 2.3 and c > 0 :\n",
    "        c = c - 1\n",
    "        return decoupe(r, L, 1.1, n, a, b, c, d)\n",
    "    else :\n",
    "        if d > 0 :\n",
    "            d = d - 1\n",
    "            return decoupe(r, L, 2.3, n, a, b, c, d)\n",
    "        elif c > 0 :\n",
    "            c = c - 1\n",
    "            return decoupe(r, L, 1.1, n, a, b, c, d)\n",
    "        elif b > 0 :\n",
    "            b = b - 1\n",
    "            return decoupe(r, L, 0.8, n, a, b, c, d)\n",
    "        elif a > 0 :\n",
    "            a = a - 1\n",
    "            return decoupe(r, L, 0.6, n, a, b, c, d)\n",
    "        else :\n",
    "            return print(f\"Commande terminée en {n} barres, avec un restachou total de {r} mètres, et une barre entammée de longueur restante {L} mètre\")"
   ]
  },
  {
   "cell_type": "markdown",
   "metadata": {
    "slideshow": {
     "slide_type": "skip"
    }
   },
   "source": [
    "# Mini-Projet de terminale à développer à partir du code proposé ci-dessus :"
   ]
  },
  {
   "cell_type": "markdown",
   "metadata": {
    "slideshow": {
     "slide_type": "subslide"
    }
   },
   "source": [
    "<center><img src=\"https://ericecmorlaix.github.io/img/DU-ESNSI_S5-didactique.svg\" alt=\"DU-ESNSI_S5-didactique.svg\" width = 100%  ></center>"
   ]
  },
  {
   "cell_type": "markdown",
   "metadata": {
    "slideshow": {
     "slide_type": "skip"
    }
   },
   "source": [
    "# Pour mémoire, Nouvelle solution alternative de niveau Terminale\n",
    "## Contexte :\n",
    "\n",
    "Nous sommes maintenant rendus en terminale. Bon nombre de nos élèves de première ont choisi de poursuivre la spécialité NSI. ;)\n",
    "\n",
    "Nous venons de leur faire découvrir les fonctions récursives par des applications classiques telles que l’implémentation d’une fonction factorielle ou le tracé d’un fractal avec le module turtle  (ipyturtle dans jupyter notebook).\n",
    "\n",
    "C’est l’occasion de revenir sur notre problème d’évaluation de fin de première et de proposer une nouvelle solution (annexe 3) qui va nous permettre de revoir la spécification, la documentation et la mise au point d’une fonction ainsi que les notions de complexité et d’algorithme glouton tout en analysant le fonctionnement d’un programme récursif.\n",
    "\n",
    "## Didactique : \n",
    "\n",
    "Le choix didactique fait ici est de se concentrer sur la seule fonction de découpe :\n",
    "-\t Elle renvoie le total des chutes et des barres consommées pour réaliser une commande complète ;\n",
    "-\tEt elle prend en entrée l’ensemble des paramètres utiles au réglage initial de la scie d’une part et, d’autre part, ceux de la répartition des pièces de la commande du jour à usiner :\n",
    "    -\tParamètres de sciage :\n",
    "        -\tr = restachou ;\n",
    "        -\tL = longueur initiale de la barre (ce programme permet de reprendre une barre incomplète) ;\n",
    "        -\tl = longueur du tronçon initiale (lui attribuer une valeur supérieure à 0mm permet de redresser une barre dont le bout serait émoussé) ;\n",
    "        -\tn = nombre de barres consommées (initialisé à 0) ;\n",
    "    -\tParamètres de la commande :\n",
    "        -\ta = nombre de pièce de 0,6m ;\n",
    "        -\tb = nombre de pièce de 0,8m ;\n",
    "        -\tc = nombre de pièce de 1,1m ;\n",
    "        -\td = nombre de pièce de 2,3m ;\n",
    "\n",
    "Aussi ce choix de nommage permet de ne pas trop « alourdir » la lecture du code.\n",
    "\n",
    "De même, c’est volontairement que ce script n’utilise pas pour l’instant de types construits : c’est une évolution que l’on demandera aux élèves d’intégrer au programme dans la suite des activités.\n",
    "\n",
    "## Activités :\n",
    "\n",
    "A partir du script de la fonction « decoupe » fourni, les élèves vont :\n",
    "1.\tAnalyser le programme pour reconnaitre un fonctionnement récursif ;\n",
    "2.\tSpécifier et documenter la fonction ;\n",
    "3.\tUtiliser des jeux de tests et en définir de nouveaux ; \n",
    "4.\tIntégrer d’autres fonctionnalités et utiliser des variables de types construits :\n",
    "    -\tAdapter le programme à des outils de coupe d’épaisseur différentes ;\n",
    "    -\tPermettre d’autres dimensions des pièces à découper ;\n",
    "    -\tRedéfinir le paramétrage d’entrée.\n",
    "5.\tDessiner un plan du débit pour chaque commande en expérimentant avec différents modules graphiques : ipyturtle, ipythonblocks, la fonction SVG() de iPython.display, Pillow, …, pygraphviz ou tout autre module permettant de tracer des graphes. Cette activité sera menée en miniprojet, avec une restitution oral devant le groupe, chaque équipe utilisera une bibliothèque différente à partir de sa documentation.\n",
    "6.\tObserver la répétition de certains motifs, mettre en évidence l’inutilité de certains appels récursifs qui conduisent à refaire des calculs déjà exécutés et découvrir l’intérêt de développer une nouvelle version en programmation dynamique…\n",
    "7.\tProduire un bilan d’analyse critique en termes de complexité, coût mémoire, optimisation de la découpe, maintenabilité, évolutivité…\n",
    "\n",
    "Le sujet pourra donc être repris après avoir fait l’étude de la programmation dynamique sur des cas classiques telle que le rendu de monnaie par exemple.\n"
   ]
  },
  {
   "cell_type": "markdown",
   "metadata": {
    "slideshow": {
     "slide_type": "skip"
    }
   },
   "source": [
    "# Activité <01> : Comprendre le programme proposé."
   ]
  },
  {
   "cell_type": "markdown",
   "metadata": {
    "slideshow": {
     "slide_type": "slide"
    }
   },
   "source": [
    "<center><img src=\"https://ericecmorlaix.github.io/img/DU-ESNSI_S5-didactique01.svg\" alt=\"DU-ESNSI_S5-didactique01.svg\" width = 90%  ></center>"
   ]
  },
  {
   "cell_type": "code",
   "execution_count": 3,
   "metadata": {
    "slideshow": {
     "slide_type": "subslide"
    }
   },
   "outputs": [
    {
     "name": "stdout",
     "output_type": "stream",
     "text": [
      "Commande terminée en 4 barres, avec un restachou total de 0.6 mètres, et une barre entammée de longueur restante 2.4 mètre\n"
     ]
    }
   ],
   "source": [
    "decoupe(0.0, 3.0, 0.0, 1, 3, 2, 3, 1)"
   ]
  },
  {
   "cell_type": "code",
   "execution_count": 4,
   "metadata": {
    "slideshow": {
     "slide_type": "-"
    }
   },
   "outputs": [
    {
     "name": "stdout",
     "output_type": "stream",
     "text": [
      "Commande terminée en 9 barres, avec un restachou total de 0.7 mètres, et une barre entammée de longueur restante 3.0 mètre\n"
     ]
    }
   ],
   "source": [
    "decoupe(0.0, 3.0, 0.0, 1, 6, 5, 8, 3)"
   ]
  },
  {
   "cell_type": "code",
   "execution_count": null,
   "metadata": {
    "slideshow": {
     "slide_type": "fragment"
    }
   },
   "outputs": [],
   "source": [
    "from metakernel import register_ipython_magics\n",
    "register_ipython_magics()"
   ]
  },
  {
   "cell_type": "code",
   "execution_count": null,
   "metadata": {
    "slideshow": {
     "slide_type": "-"
    }
   },
   "outputs": [],
   "source": [
    "%%tutor\n",
    "def decoupe(r, L, l, n, a, b, c, d) :\n",
    "    '''\n",
    "    * Paramètres de sciage :\n",
    "        r = restachou ;\n",
    "        L = longueur initiale de la barre (ce programme permet de reprendre une barre incomplète) ;\n",
    "        l = longueur du tronçon initiale (lui attribuer une valeur supérieure à 0mm permet de redresser une barre dont le bout serait émoussé) ;\n",
    "        n = nombre de barres consommées (initialisé à 0) ;\n",
    "    * Paramètres de la commande :\n",
    "        a = nombre de pièce de 0,6m ;\n",
    "        b = nombre de pièce de 0,8m ;\n",
    "        c = nombre de pièce de 1,1m ;\n",
    "        d = nombre de pièce de 2,3m ;\n",
    "    '''\n",
    "    L = round(L - l, 1)\n",
    "    if L < 0.6 :\n",
    "        r = round(r + L,1)\n",
    "        n = n + 1\n",
    "        return decoupe(r, 3.0, 0.0, n, a, b, c, d)\n",
    "    elif L < 0.8 and a > 0 :\n",
    "        a = a - 1\n",
    "        return decoupe(r, L, 0.6, n, a, b, c, d)\n",
    "    elif L < 1.1 and b > 0 :\n",
    "        b = b - 1\n",
    "        return decoupe(r, L, 0.8, n, a, b, c, d)\n",
    "    elif L < 2.3 and c > 0 :\n",
    "        c = c - 1\n",
    "        return decoupe(r, L, 1.1, n, a, b, c, d)\n",
    "    else :\n",
    "        if d > 0 :\n",
    "            d = d - 1\n",
    "            return decoupe(r, L, 2.3, n, a, b, c, d)\n",
    "        elif c > 0 :\n",
    "            c = c - 1\n",
    "            return decoupe(r, L, 1.1, n, a, b, c, d)\n",
    "        elif b > 0 :\n",
    "            b = b - 1\n",
    "            return decoupe(r, L, 0.8, n, a, b, c, d)\n",
    "        elif a > 0 :\n",
    "            a = a - 1\n",
    "            return decoupe(r, L, 0.6, n, a, b, c, d)\n",
    "        else :\n",
    "            return print(f\"Commande terminée en {n} barres, avec un restachou total de {r} mètres, et une barre entammée de longueur restante {L} mètre\")\n",
    "        \n",
    "decoupe(0.0, 3.0, 0.0, 1, 3, 2, 3, 1)"
   ]
  },
  {
   "cell_type": "markdown",
   "metadata": {
    "slideshow": {
     "slide_type": "skip"
    }
   },
   "source": [
    "# Activité <02> : Enrichir le programme proposé."
   ]
  },
  {
   "cell_type": "markdown",
   "metadata": {
    "slideshow": {
     "slide_type": "slide"
    }
   },
   "source": [
    "<center><img src=\"https://ericecmorlaix.github.io/img/DU-ESNSI_S5-didactique02.svg\" alt=\"DU-ESNSI_S5-didactique02.svg\" width = 100%  ></center>"
   ]
  },
  {
   "cell_type": "code",
   "execution_count": 1,
   "metadata": {
    "slideshow": {
     "slide_type": "subslide"
    }
   },
   "outputs": [],
   "source": [
    "def decoupe(config, commande, dimensions) :\n",
    "  \n",
    "    # Retranchement d'une pièce de longueur l\n",
    "    if config[2] != 0 :\n",
    "        config[1] = round(config[1] - config[2] - config[4], 3)\n",
    "    \n",
    "    # mise au rebut et réinitialisation d'une nouvelle barre\n",
    "    if config[1] < dimensions[0] :\n",
    "        config[0] = round(config[0] + config[1],3)\n",
    "        config[1] = 3.0\n",
    "        config[2] = 0.0\n",
    "        config[3] += 1\n",
    "        \n",
    "    \n",
    "    # Recherche de la plus grande pièce retranchable dans la longueur L restante\n",
    "    elif config[1] < dimensions[1] and commande[0] > 0 :\n",
    "        commande[0] -= 1\n",
    "        config[2] = dimensions[0]\n",
    "        return decoupe(config, commande, dimensions)\n",
    "    \n",
    "    elif config[1] < dimensions[2] and commande[1] > 0 :\n",
    "        commande[1] -= 1\n",
    "        config[2] = dimensions[1]\n",
    "        return decoupe(config, commande, dimensions)\n",
    "    \n",
    "    elif config[1] < dimensions[3] and commande[2] > 0 :\n",
    "        commande[2] -= 1\n",
    "        config[2] = dimensions[2]\n",
    "        return decoupe(config, commande, dimensions)\n",
    "    \n",
    "    # choix de la prochaine longueur de pièce à retrancher dans un ordre gourmand à concurrence de la commande\n",
    "    else :\n",
    "        \n",
    "        if commande[3] > 0 :\n",
    "            commande[3] -= 1\n",
    "            config[2] = dimensions[3]\n",
    "            return decoupe(config, commande, dimensions)\n",
    "        \n",
    "        elif commande[2] > 0 :\n",
    "            commande[2] -= 1\n",
    "            config[2] = dimensions[2]\n",
    "            return decoupe(config, commande, dimensions)\n",
    "        \n",
    "        elif commande[1] > 0 :\n",
    "            commande[1] -= 1\n",
    "            config[2] = dimensions[1]\n",
    "            return decoupe(config, commande, dimensions)\n",
    "        \n",
    "        elif commande[0] > 0 :\n",
    "            commande[0] -= 1\n",
    "            config[2] = dimensions[0]\n",
    "            return decoupe(config, commande, dimensions)\n",
    "     \n",
    "        # affichage final en sortie\n",
    "        else :\n",
    "            return print(f\"Commande terminée en {config[3]} barres, avec un restachou total de {config[0]} mètres, et une barre entammée de longueur restante {config[1]} mètre\")\n",
    "     "
   ]
  },
  {
   "cell_type": "code",
   "execution_count": null,
   "metadata": {
    "slideshow": {
     "slide_type": "subslide"
    }
   },
   "outputs": [],
   "source": [
    "def decoupe(config, commande, dimensions) :\n",
    "    \n",
    "   # Retranchement d'une pièce de longueur l\n",
    "    if config[2] != 0 :\n",
    "        config[1] = round(config[1] - config[2] - config[4], 3)\n",
    "    \n",
    "    \n",
    "    # mise au rebut et réinitialisation d'une nouvelle barre\n",
    "    if config[1] < dimensions[0] :\n",
    "        config[0] = round(config[0] + config[1],3)\n",
    "        config[1] = 3.0\n",
    "        config[2] = 0.0\n",
    "        config[3] += 1\n",
    "        \n",
    "    \n",
    "    # Recherche de la plus grande pièce retranchable dans la longueur L restante\n",
    "    for loop in range(3) :\n",
    "        if config[1] < dimensions[loop+1] and commande[loop] > 0 :\n",
    "            commande[loop] -= 1\n",
    "            config[2] = dimensions[loop]\n",
    "            return decoupe(config, commande, dimensions)\n",
    "      \n",
    "    \n",
    "    # choix de la prochaine longueur de pièce à retrancher dans un ordre gourmand à concurrence de la commande\n",
    "    else :\n",
    "        for loop in range(3,-1,-1) :        \n",
    "            if commande[loop] > 0 :\n",
    "                commande[loop] -= 1\n",
    "                config[2] = dimensions[loop]\n",
    "                return decoupe(config, commande, dimensions)\n",
    "        \n",
    "        # affichage final en sortie                \n",
    "        else :\n",
    "            return print(f\"Commande terminée en {config[3]} barres, avec un restachou total de {config[0]} mètres, et une barre entammée de longueur restante {config[1]} mètre\")   "
   ]
  },
  {
   "cell_type": "markdown",
   "metadata": {
    "slideshow": {
     "slide_type": "subslide"
    }
   },
   "source": [
    "<center><img src=\"https://ericecmorlaix.github.io/img/DU-ESNSI_S5-modulaire.svg\" alt=\"DU-ESNSI_S5-modulaire.svg\" width = 90%  ></center>"
   ]
  },
  {
   "cell_type": "markdown",
   "metadata": {
    "slideshow": {
     "slide_type": "skip"
    }
   },
   "source": [
    "# Activité <03> : Dessiner un plan de débit."
   ]
  },
  {
   "cell_type": "markdown",
   "metadata": {
    "slideshow": {
     "slide_type": "slide"
    }
   },
   "source": [
    "<center><img src=\"https://ericecmorlaix.github.io/img/DU-ESNSI_S5-didactique03.svg\" alt=\"DU-ESNSI_S5-didactique03.svg\" width = 100%  ></center>"
   ]
  },
  {
   "cell_type": "markdown",
   "metadata": {
    "slideshow": {
     "slide_type": "subslide"
    }
   },
   "source": [
    "## Un simple print() en sortie :"
   ]
  },
  {
   "cell_type": "code",
   "execution_count": 1,
   "metadata": {
    "slideshow": {
     "slide_type": "-"
    }
   },
   "outputs": [],
   "source": [
    "def decoupe(config, commande, dimensions) :\n",
    "    \n",
    "    \n",
    "    \n",
    "    # Retranchement d'une pièce de longueur l\n",
    "    if config[2] != 0 :\n",
    "        config[1] = round(config[1] - config[2] - config[4], 3)\n",
    "        print(f\"r={config[0]} L={config[1]} l={config[2]} n={config[3]} a={commande[0]} b={commande[1]} c={commande[2]} d={commande[3]}\")\n",
    "    \n",
    "    # mise au rebut de la chute et réinitialisation d'une nouvelle barre\n",
    "    if config[1] < dimensions[0] :\n",
    "        config[0] = round(config[0] + config[1],3)\n",
    "        config[1] = 3.0\n",
    "        config[2] = 0.0\n",
    "        config[3] += 1\n",
    "           \n",
    "    \n",
    "    # Recherche de la plus grande pièce retranchable dans la longueur L restante\n",
    "    for loop in range(3) :\n",
    "        if config[1] < dimensions[loop+1] and commande[loop] > 0 :\n",
    "            commande[loop] -= 1\n",
    "            config[2] = dimensions[loop]\n",
    "            return decoupe(config, commande, dimensions)\n",
    "            \n",
    "    # choix de la prochaine longueur de pièce à retrancher dans un ordre gourmand à concurrence de la commande\n",
    "    else :\n",
    "        for loop in range(3,-1,-1) :        \n",
    "            if commande[loop] > 0 :\n",
    "                commande[loop] -= 1\n",
    "                config[2] = dimensions[loop]\n",
    "                return decoupe(config, commande, dimensions)\n",
    "        \n",
    "        # affichage final en sortie                \n",
    "        else :\n",
    "            return print(f\"Commande terminée en {config[3]} barres, avec un restachou total de {config[0]} mètres, et une barre entammée de longueur restante {config[1]} mètre\")"
   ]
  },
  {
   "cell_type": "code",
   "execution_count": 2,
   "metadata": {
    "slideshow": {
     "slide_type": "subslide"
    }
   },
   "outputs": [
    {
     "name": "stdout",
     "output_type": "stream",
     "text": [
      "r=0.0 L=0.697 l=2.3 n=1 a=3 b=2 c=3 d=0\n",
      "r=0.0 L=0.094 l=0.6 n=1 a=2 b=2 c=3 d=0\n",
      "r=0.094 L=1.897 l=1.1 n=2 a=2 b=2 c=2 d=0\n",
      "r=0.094 L=0.794 l=1.1 n=2 a=2 b=2 c=1 d=0\n",
      "r=0.094 L=0.191 l=0.6 n=2 a=1 b=2 c=1 d=0\n",
      "r=0.285 L=1.897 l=1.1 n=3 a=1 b=2 c=0 d=0\n",
      "r=0.285 L=1.094 l=0.8 n=3 a=1 b=1 c=0 d=0\n",
      "r=0.285 L=0.291 l=0.8 n=3 a=1 b=0 c=0 d=0\n",
      "r=0.576 L=2.397 l=0.6 n=4 a=0 b=0 c=0 d=0\n",
      "Commande terminée en 4 barres, avec un restachou total de 0.576 mètres, et une barre entammée de longueur restante 2.397 mètre\n"
     ]
    }
   ],
   "source": [
    "decoupe([0.0, 3.0, 0.0, 1, 0.003], [3, 2, 3, 1], [0.6, 0.8, 1.1, 2.3])"
   ]
  },
  {
   "cell_type": "code",
   "execution_count": 3,
   "metadata": {
    "slideshow": {
     "slide_type": "-"
    }
   },
   "outputs": [
    {
     "name": "stdout",
     "output_type": "stream",
     "text": [
      "r=0.0 L=0.697 l=2.3 n=1 a=6 b=5 c=8 d=2\n",
      "r=0.0 L=0.094 l=0.6 n=1 a=5 b=5 c=8 d=2\n",
      "r=0.094 L=0.697 l=2.3 n=2 a=5 b=5 c=8 d=1\n",
      "r=0.094 L=0.094 l=0.6 n=2 a=4 b=5 c=8 d=1\n",
      "r=0.188 L=0.697 l=2.3 n=3 a=4 b=5 c=8 d=0\n",
      "r=0.188 L=0.094 l=0.6 n=3 a=3 b=5 c=8 d=0\n",
      "r=0.282 L=1.897 l=1.1 n=4 a=3 b=5 c=7 d=0\n",
      "r=0.282 L=0.794 l=1.1 n=4 a=3 b=5 c=6 d=0\n",
      "r=0.282 L=0.191 l=0.6 n=4 a=2 b=5 c=6 d=0\n",
      "r=0.473 L=1.897 l=1.1 n=5 a=2 b=5 c=5 d=0\n",
      "r=0.473 L=0.794 l=1.1 n=5 a=2 b=5 c=4 d=0\n",
      "r=0.473 L=0.191 l=0.6 n=5 a=1 b=5 c=4 d=0\n",
      "r=0.664 L=1.897 l=1.1 n=6 a=1 b=5 c=3 d=0\n",
      "r=0.664 L=0.794 l=1.1 n=6 a=1 b=5 c=2 d=0\n",
      "r=0.664 L=0.191 l=0.6 n=6 a=0 b=5 c=2 d=0\n",
      "r=0.855 L=1.897 l=1.1 n=7 a=0 b=5 c=1 d=0\n",
      "r=0.855 L=0.794 l=1.1 n=7 a=0 b=5 c=0 d=0\n",
      "r=0.855 L=-0.009 l=0.8 n=7 a=0 b=4 c=0 d=0\n",
      "r=0.846 L=2.197 l=0.8 n=8 a=0 b=3 c=0 d=0\n",
      "r=0.846 L=1.394 l=0.8 n=8 a=0 b=2 c=0 d=0\n",
      "r=0.846 L=0.591 l=0.8 n=8 a=0 b=1 c=0 d=0\n",
      "r=1.437 L=2.197 l=0.8 n=9 a=0 b=0 c=0 d=0\n",
      "Commande terminée en 9 barres, avec un restachou total de 1.437 mètres, et une barre entammée de longueur restante 2.197 mètre\n"
     ]
    }
   ],
   "source": [
    "decoupe([0.0, 3.0, 0.0, 1, 0.003], [6, 5, 8, 3], [0.6, 0.8, 1.1, 2.3])"
   ]
  },
  {
   "cell_type": "markdown",
   "metadata": {
    "slideshow": {
     "slide_type": "skip"
    }
   },
   "source": [
    "### Conclusion :\n",
    "\n",
    "Ce n'est pas très lisible..."
   ]
  },
  {
   "cell_type": "markdown",
   "metadata": {
    "slideshow": {
     "slide_type": "skip"
    }
   },
   "source": [
    "## Une image SVG en sortie :\n",
    "\n",
    "En utilisant la fonction SVG() du module IPython.display."
   ]
  },
  {
   "cell_type": "code",
   "execution_count": null,
   "metadata": {
    "slideshow": {
     "slide_type": "skip"
    }
   },
   "outputs": [],
   "source": [
    "from IPython.display import SVG\n",
    "S ='<svg width=\"605px\" height=\"25px\"><rect x=\"2\" y=\"2\" width=\"600\" height=\"20\" fill=\"none\" stroke=\"#7f00ff\" stroke-width=\"2\"></rect></svg>'\n",
    "SVG(S)"
   ]
  },
  {
   "cell_type": "code",
   "execution_count": null,
   "metadata": {
    "slideshow": {
     "slide_type": "skip"
    }
   },
   "outputs": [],
   "source": [
    "from IPython.display import SVG\n",
    "\n",
    "l = 2.3\n",
    "\n",
    "S ='<svg width=\"605px\" height=\"25px\">'\n",
    "\n",
    "S += f'<rect x=\"2\" y=\"2\" width=\"{l*200}\" height=\"20\" fill=\"none\" stroke=\"#7f00ff\" stroke-width=\"2\"></rect></svg>'\n",
    "\n",
    "SVG(S)"
   ]
  },
  {
   "cell_type": "code",
   "execution_count": null,
   "metadata": {
    "slideshow": {
     "slide_type": "skip"
    }
   },
   "outputs": [],
   "source": [
    "from ipywidgets import interact\n",
    "from IPython.display import SVG\n",
    "\n",
    "def foo(l):\n",
    "    \n",
    "    S ='<svg width=\"605px\" height=\"25px\">'\n",
    "    S += f'<rect x=\"2\" y=\"2\" width=\"{l*200}\" height=\"20\" fill=\"none\" stroke=\"#7f00ff\" stroke-width=\"2\"></rect>'\n",
    "    S +='</svg>'\n",
    "    \n",
    "    return SVG(S)\n",
    "\n",
    "interact(foo, l = 1.5)"
   ]
  },
  {
   "cell_type": "code",
   "execution_count": null,
   "metadata": {
    "slideshow": {
     "slide_type": "skip"
    }
   },
   "outputs": [],
   "source": [
    "from ipywidgets import interact\n",
    "from IPython.display import SVG\n",
    "\n",
    "def foo(l1, l2):\n",
    "    \n",
    "    S ='<svg width=\"605px\" height=\"25px\">'\n",
    "    S += f'<rect x=\"2\" y=\"2\" width=\"{l1*200}\" height=\"20\" fill=\"none\" stroke=\"#7f00ff\" stroke-width=\"2\"></rect>'\n",
    "    S += f'<rect x=\"{l1*200 + 6}\" y=\"2\" width=\"{l2*200}\" height=\"20\" fill=\"none\" stroke=\"#7f00ff\" stroke-width=\"2\"></rect>'\n",
    "    S +='</svg>'\n",
    "    \n",
    "    return SVG(S)\n",
    "\n",
    "interact(foo, l1 = 1.5, l2 = 1.5)"
   ]
  },
  {
   "cell_type": "code",
   "execution_count": null,
   "metadata": {
    "slideshow": {
     "slide_type": "skip"
    }
   },
   "outputs": [],
   "source": [
    "from IPython.display import SVG\n",
    "\n",
    "def debitBarre(longueurs):\n",
    "    \n",
    "    S ='<svg width=\"602px\" height=\"32px\">'\n",
    "    S += f'<rect x=\"1\" y=\"1\" width=\"600\" height=\"30\" fill=\"none\" stroke=\"#0c0c0c\" stroke-width=\"2\"></rect>'\n",
    "    \n",
    "    S += f'<rect x=\"2\" y=\"4\" width=\"{longueurs[0]*200 -2}\" height=\"24\" fill=\"none\" stroke=\"#7f00ff\" stroke-width=\"2\"></rect>'\n",
    "    S += f'<rect x=\"{longueurs[0]*200 + 2}\" y=\"4\" width=\"{longueurs[1]*200 -2}\" height=\"24\" fill=\"none\" stroke=\"#7f00ff\" stroke-width=\"2\"></rect>'\n",
    "    S +='</svg>'\n",
    "    \n",
    "    return SVG(S)\n",
    "\n",
    "debitBarre([1.1, 1.1])"
   ]
  },
  {
   "cell_type": "code",
   "execution_count": null,
   "metadata": {
    "slideshow": {
     "slide_type": "skip"
    }
   },
   "outputs": [],
   "source": [
    "from IPython.display import SVG\n",
    "\n",
    "def debitBarre(longueurs):\n",
    "    \n",
    "    abcisse = 2\n",
    "    S ='<svg width=\"602px\" height=\"32px\">'\n",
    "    S += f'<rect x=\"1\" y=\"1\" width=\"600\" height=\"30\" fill=\"none\" stroke=\"#0c0c0c\" stroke-width=\"2\"></rect>'\n",
    "    for i in range(len(longueurs)):\n",
    "        S += f'<rect x=\"{abcisse}\" y=\"4\" width=\"{longueurs[i]*200 -2}\" height=\"24\" fill=\"none\" stroke=\"#7f00ff\" stroke-width=\"2\"></rect>'\n",
    "        abcisse += longueurs[i] * 200  + 2\n",
    "    \n",
    "    S +='</svg>'\n",
    "    return SVG(S)\n",
    "\n",
    "debitBarre([1.1, 1.1, 0.6])"
   ]
  },
  {
   "cell_type": "code",
   "execution_count": null,
   "metadata": {
    "slideshow": {
     "slide_type": "skip"
    }
   },
   "outputs": [],
   "source": [
    "from IPython.display import SVG\n",
    "\n",
    "def debitBarre(longueurs):\n",
    "        \n",
    "    S =f'<svg width=\"602px\" height=\"{len(longueurs) * 32}px\">'\n",
    "    \n",
    "    ordonnee = 1\n",
    "    for j in range(len(longueurs)) :\n",
    "                 \n",
    "        S += f'<rect x=\"1\" y=\"{ordonnee}\" width=\"600\" height=\"30\" fill=\"none\" stroke=\"#0c0c0c\" stroke-width=\"2\"></rect>'\n",
    "        \n",
    "        abcisse = 2\n",
    "        for i in range(len(longueurs[j])):\n",
    "            S += f'<rect x=\"{abcisse}\" y=\"{ordonnee +3}\" width=\"{longueurs[j][i]*200 -2}\" height=\"24\" fill=\"none\" stroke=\"#7f00ff\" stroke-width=\"2\"></rect>'\n",
    "            abcisse += longueurs[j][i] * 200  + 2\n",
    "        \n",
    "        ordonnee += 32\n",
    "        \n",
    "    S +='</svg>'\n",
    "    #print(S)\n",
    "    return SVG(S)\n",
    "\n",
    "debitBarre([[2.3, 0.6], [2.3, 0.6], [1.1, 1.1, 0.6], [1.1, 1.1, 0.6]])"
   ]
  },
  {
   "cell_type": "markdown",
   "metadata": {
    "slideshow": {
     "slide_type": "skip"
    }
   },
   "source": [
    "## ipythonblocks"
   ]
  },
  {
   "cell_type": "code",
   "execution_count": null,
   "metadata": {
    "slideshow": {
     "slide_type": "skip"
    }
   },
   "outputs": [],
   "source": [
    "from ipythonblocks import BlockGrid\n",
    "maBarre = BlockGrid(30,1, fill=(200, 200, 200), block_size=30)\n",
    "maBarre"
   ]
  },
  {
   "cell_type": "code",
   "execution_count": null,
   "metadata": {
    "slideshow": {
     "slide_type": "skip"
    }
   },
   "outputs": [],
   "source": [
    "maBarre[0,:23]=(255,0,0)\n",
    "maBarre[0,23:29]=(0,255,0)\n",
    "maBarre"
   ]
  },
  {
   "cell_type": "markdown",
   "metadata": {
    "slideshow": {
     "slide_type": "subslide"
    }
   },
   "source": [
    "# Programme avec accumulateur de liste de débit"
   ]
  },
  {
   "cell_type": "code",
   "execution_count": null,
   "metadata": {
    "slideshow": {
     "slide_type": "-"
    }
   },
   "outputs": [],
   "source": [
    "from metakernel import register_ipython_magics\n",
    "register_ipython_magics()"
   ]
  },
  {
   "cell_type": "code",
   "execution_count": null,
   "metadata": {
    "slideshow": {
     "slide_type": "-"
    }
   },
   "outputs": [],
   "source": [
    "%%tutor\n",
    "def decoupe(config, commande, dimensions, debit) :\n",
    "    \n",
    "    # Retranchement d'une pièce de longueur l\n",
    "    if config[2] != 0 :\n",
    "        config[1] = round(config[1] - config[2] - config[4], 3)\n",
    "        debit[config[3]-1].append(config[2]) # ajout d'une nouvelle pièce dans la barre n de l'accumulateur\n",
    "    \n",
    "    # mise au rebut de la chute et réinitialisation d'une nouvelle barre\n",
    "    if config[1] < dimensions[0] :\n",
    "        config[0] = round(config[0] + config[1],3)\n",
    "        config[1] = 3.0\n",
    "        config[2] = 0.0\n",
    "        config[3] += 1\n",
    "        debit.append([]) # ajout d'une nouvelle barre dans l'accumulateur\n",
    "        \n",
    "    # Recherche de la plus grande pièce retranchable dans la longueur L restante\n",
    "    for loop in range(3) :\n",
    "        if config[1] < dimensions[loop+1] and commande[loop] > 0 :\n",
    "            commande[loop] -= 1\n",
    "            config[2] = dimensions[loop]\n",
    "            return decoupe(config, commande, dimensions, debit)\n",
    "            \n",
    "    # choix de la prochaine longueur de pièce à retrancher dans un ordre gourmand à concurrence de la commande\n",
    "    else :\n",
    "        for loop in range(3,-1,-1) :        \n",
    "            if commande[loop] > 0 :\n",
    "                commande[loop] -= 1\n",
    "                config[2] = dimensions[loop]\n",
    "                return decoupe(config, commande, dimensions, debit)\n",
    "        \n",
    "        # affichage final en sortie                \n",
    "        else :\n",
    "            return print(debit)\n",
    "        \n",
    "decoupe([0.0, 3.0, 0.0, 1, 0.003], [3, 2, 3, 1], [0.6, 0.8, 1.1, 2.3], [[]])\n",
    "# decoupe([0.0, 3.0, 0.0, 1, 0.003], [6, 5, 8, 3], [0.6, 0.8, 1.1, 2.3], [[]])"
   ]
  },
  {
   "cell_type": "markdown",
   "metadata": {
    "slideshow": {
     "slide_type": "subslide"
    }
   },
   "source": [
    "# Programme final activité <3> en SVG :"
   ]
  },
  {
   "cell_type": "code",
   "execution_count": 1,
   "metadata": {
    "slideshow": {
     "slide_type": "-"
    }
   },
   "outputs": [],
   "source": [
    "from IPython.display import SVG\n",
    "\n",
    "def debitBarre(longueurs):\n",
    "    S =f'<svg width=\"602px\" height=\"{len(longueurs) * 32}px\">'\n",
    "    ordonnee = 1\n",
    "    for j in range(len(longueurs)) :\n",
    "        S += f'<rect x=\"1\" y=\"{ordonnee}\" width=\"600\" height=\"30\" fill=\"none\" stroke=\"#0c0c0c\" stroke-width=\"2\"></rect>'\n",
    "        abcisse = 2\n",
    "        for i in range(len(longueurs[j])):\n",
    "            S += f'<rect x=\"{abcisse}\" y=\"{ordonnee +3}\" width=\"{longueurs[j][i]*200 -2}\" height=\"24\" fill=\"none\" stroke=\"#7f00ff\" stroke-width=\"2\"></rect>'\n",
    "            abcisse += longueurs[j][i] * 200  + 2\n",
    "        ordonnee += 32\n",
    "    S +='</svg>'\n",
    "    #print(S)\n",
    "    return SVG(S)\n",
    "\n",
    "\n",
    "def decoupe(config, commande, dimensions, debit) :\n",
    "    \n",
    "    # Retranchement d'une pièce de longueur l\n",
    "    if config[2] != 0 :\n",
    "        config[1] = round(config[1] - config[2] - config[4], 3)\n",
    "        debit[config[3]-1].append(config[2]) # ajout d'une nouvelle pièce dans la barre n de l'accumulateur\n",
    "    \n",
    "    # mise au rebut de la chute et réinitialisation d'une nouvelle barre\n",
    "    if config[1] < dimensions[0] :\n",
    "        config[0] = round(config[0] + config[1],3)\n",
    "        config[1] = 3.0\n",
    "        config[2] = 0.0\n",
    "        config[3] += 1\n",
    "        debit.append([]) # ajout d'une nouvelle barre dans l'accumulateur\n",
    "    \n",
    "    # Recherche de la plus grande pièce retranchable dans la longueur L restante\n",
    "    for loop in range(3) :\n",
    "        if config[1] < dimensions[loop+1] and commande[loop] > 0 :\n",
    "            commande[loop] -= 1\n",
    "            config[2] = dimensions[loop]\n",
    "            return decoupe(config, commande, dimensions, debit)\n",
    "            \n",
    "    # choix de la prochaine longueur de pièce à retrancher dans un ordre gourmand à concurrence de la commande\n",
    "    else :\n",
    "        for loop in range(3,-1,-1) :        \n",
    "            if commande[loop] > 0 :\n",
    "                commande[loop] -= 1\n",
    "                config[2] = dimensions[loop]\n",
    "                return decoupe(config, commande, dimensions, debit)\n",
    "        \n",
    "        # affichage final en sortie                \n",
    "        else :\n",
    "            return debitBarre(debit)"
   ]
  },
  {
   "cell_type": "code",
   "execution_count": 2,
   "metadata": {
    "slideshow": {
     "slide_type": "subslide"
    }
   },
   "outputs": [
    {
     "data": {
      "image/svg+xml": [
       "<svg height=\"128px\" width=\"602px\"><rect fill=\"none\" height=\"30\" stroke=\"#0c0c0c\" stroke-width=\"2\" width=\"600\" x=\"1\" y=\"1\"/><rect fill=\"none\" height=\"24\" stroke=\"#7f00ff\" stroke-width=\"2\" width=\"457.99999999999994\" x=\"2\" y=\"4\"/><rect fill=\"none\" height=\"24\" stroke=\"#7f00ff\" stroke-width=\"2\" width=\"118.0\" x=\"463.99999999999994\" y=\"4\"/><rect fill=\"none\" height=\"30\" stroke=\"#0c0c0c\" stroke-width=\"2\" width=\"600\" x=\"1\" y=\"33\"/><rect fill=\"none\" height=\"24\" stroke=\"#7f00ff\" stroke-width=\"2\" width=\"218.00000000000003\" x=\"2\" y=\"36\"/><rect fill=\"none\" height=\"24\" stroke=\"#7f00ff\" stroke-width=\"2\" width=\"218.00000000000003\" x=\"224.00000000000003\" y=\"36\"/><rect fill=\"none\" height=\"24\" stroke=\"#7f00ff\" stroke-width=\"2\" width=\"118.0\" x=\"446.00000000000006\" y=\"36\"/><rect fill=\"none\" height=\"30\" stroke=\"#0c0c0c\" stroke-width=\"2\" width=\"600\" x=\"1\" y=\"65\"/><rect fill=\"none\" height=\"24\" stroke=\"#7f00ff\" stroke-width=\"2\" width=\"218.00000000000003\" x=\"2\" y=\"68\"/><rect fill=\"none\" height=\"24\" stroke=\"#7f00ff\" stroke-width=\"2\" width=\"158.0\" x=\"224.00000000000003\" y=\"68\"/><rect fill=\"none\" height=\"24\" stroke=\"#7f00ff\" stroke-width=\"2\" width=\"158.0\" x=\"386.0\" y=\"68\"/><rect fill=\"none\" height=\"30\" stroke=\"#0c0c0c\" stroke-width=\"2\" width=\"600\" x=\"1\" y=\"97\"/><rect fill=\"none\" height=\"24\" stroke=\"#7f00ff\" stroke-width=\"2\" width=\"118.0\" x=\"2\" y=\"100\"/></svg>"
      ],
      "text/plain": [
       "<IPython.core.display.SVG object>"
      ]
     },
     "execution_count": 2,
     "metadata": {},
     "output_type": "execute_result"
    }
   ],
   "source": [
    "decoupe([0.0, 3.0, 0.0, 1, 0.003], [3, 2, 3, 1], [0.6, 0.8, 1.1, 2.3], [[]])"
   ]
  },
  {
   "cell_type": "code",
   "execution_count": 3,
   "metadata": {
    "slideshow": {
     "slide_type": "-"
    }
   },
   "outputs": [
    {
     "data": {
      "image/svg+xml": [
       "<svg height=\"288px\" width=\"602px\"><rect fill=\"none\" height=\"30\" stroke=\"#0c0c0c\" stroke-width=\"2\" width=\"600\" x=\"1\" y=\"1\"/><rect fill=\"none\" height=\"24\" stroke=\"#7f00ff\" stroke-width=\"2\" width=\"457.99999999999994\" x=\"2\" y=\"4\"/><rect fill=\"none\" height=\"24\" stroke=\"#7f00ff\" stroke-width=\"2\" width=\"118.0\" x=\"463.99999999999994\" y=\"4\"/><rect fill=\"none\" height=\"30\" stroke=\"#0c0c0c\" stroke-width=\"2\" width=\"600\" x=\"1\" y=\"33\"/><rect fill=\"none\" height=\"24\" stroke=\"#7f00ff\" stroke-width=\"2\" width=\"457.99999999999994\" x=\"2\" y=\"36\"/><rect fill=\"none\" height=\"24\" stroke=\"#7f00ff\" stroke-width=\"2\" width=\"118.0\" x=\"463.99999999999994\" y=\"36\"/><rect fill=\"none\" height=\"30\" stroke=\"#0c0c0c\" stroke-width=\"2\" width=\"600\" x=\"1\" y=\"65\"/><rect fill=\"none\" height=\"24\" stroke=\"#7f00ff\" stroke-width=\"2\" width=\"457.99999999999994\" x=\"2\" y=\"68\"/><rect fill=\"none\" height=\"24\" stroke=\"#7f00ff\" stroke-width=\"2\" width=\"118.0\" x=\"463.99999999999994\" y=\"68\"/><rect fill=\"none\" height=\"30\" stroke=\"#0c0c0c\" stroke-width=\"2\" width=\"600\" x=\"1\" y=\"97\"/><rect fill=\"none\" height=\"24\" stroke=\"#7f00ff\" stroke-width=\"2\" width=\"218.00000000000003\" x=\"2\" y=\"100\"/><rect fill=\"none\" height=\"24\" stroke=\"#7f00ff\" stroke-width=\"2\" width=\"218.00000000000003\" x=\"224.00000000000003\" y=\"100\"/><rect fill=\"none\" height=\"24\" stroke=\"#7f00ff\" stroke-width=\"2\" width=\"118.0\" x=\"446.00000000000006\" y=\"100\"/><rect fill=\"none\" height=\"30\" stroke=\"#0c0c0c\" stroke-width=\"2\" width=\"600\" x=\"1\" y=\"129\"/><rect fill=\"none\" height=\"24\" stroke=\"#7f00ff\" stroke-width=\"2\" width=\"218.00000000000003\" x=\"2\" y=\"132\"/><rect fill=\"none\" height=\"24\" stroke=\"#7f00ff\" stroke-width=\"2\" width=\"218.00000000000003\" x=\"224.00000000000003\" y=\"132\"/><rect fill=\"none\" height=\"24\" stroke=\"#7f00ff\" stroke-width=\"2\" width=\"118.0\" x=\"446.00000000000006\" y=\"132\"/><rect fill=\"none\" height=\"30\" stroke=\"#0c0c0c\" stroke-width=\"2\" width=\"600\" x=\"1\" y=\"161\"/><rect fill=\"none\" height=\"24\" stroke=\"#7f00ff\" stroke-width=\"2\" width=\"218.00000000000003\" x=\"2\" y=\"164\"/><rect fill=\"none\" height=\"24\" stroke=\"#7f00ff\" stroke-width=\"2\" width=\"218.00000000000003\" x=\"224.00000000000003\" y=\"164\"/><rect fill=\"none\" height=\"24\" stroke=\"#7f00ff\" stroke-width=\"2\" width=\"118.0\" x=\"446.00000000000006\" y=\"164\"/><rect fill=\"none\" height=\"30\" stroke=\"#0c0c0c\" stroke-width=\"2\" width=\"600\" x=\"1\" y=\"193\"/><rect fill=\"none\" height=\"24\" stroke=\"#7f00ff\" stroke-width=\"2\" width=\"218.00000000000003\" x=\"2\" y=\"196\"/><rect fill=\"none\" height=\"24\" stroke=\"#7f00ff\" stroke-width=\"2\" width=\"218.00000000000003\" x=\"224.00000000000003\" y=\"196\"/><rect fill=\"none\" height=\"24\" stroke=\"#7f00ff\" stroke-width=\"2\" width=\"158.0\" x=\"446.00000000000006\" y=\"196\"/><rect fill=\"none\" height=\"30\" stroke=\"#0c0c0c\" stroke-width=\"2\" width=\"600\" x=\"1\" y=\"225\"/><rect fill=\"none\" height=\"24\" stroke=\"#7f00ff\" stroke-width=\"2\" width=\"158.0\" x=\"2\" y=\"228\"/><rect fill=\"none\" height=\"24\" stroke=\"#7f00ff\" stroke-width=\"2\" width=\"158.0\" x=\"164.0\" y=\"228\"/><rect fill=\"none\" height=\"24\" stroke=\"#7f00ff\" stroke-width=\"2\" width=\"158.0\" x=\"326.0\" y=\"228\"/><rect fill=\"none\" height=\"30\" stroke=\"#0c0c0c\" stroke-width=\"2\" width=\"600\" x=\"1\" y=\"257\"/><rect fill=\"none\" height=\"24\" stroke=\"#7f00ff\" stroke-width=\"2\" width=\"158.0\" x=\"2\" y=\"260\"/></svg>"
      ],
      "text/plain": [
       "<IPython.core.display.SVG object>"
      ]
     },
     "execution_count": 3,
     "metadata": {},
     "output_type": "execute_result"
    }
   ],
   "source": [
    "decoupe([0.0, 3.0, 0.0, 1, 0.003], [6, 5, 8, 3], [0.6, 0.8, 1.1, 2.3], [[]])"
   ]
  },
  {
   "cell_type": "markdown",
   "metadata": {
    "slideshow": {
     "slide_type": "skip"
    }
   },
   "source": [
    "### Conclusion :\n",
    "\n",
    "On observe une répétition de motifs, le programme pourrait faire l'économie de cetains appels récursifs en mémoïsant ces motifs.\n",
    "\n",
    "C'est ce que fait une programmation dynamique...\n",
    "\n",
    "\n",
    "# Activité <04> : Synthèse."
   ]
  },
  {
   "cell_type": "markdown",
   "metadata": {
    "slideshow": {
     "slide_type": "slide"
    }
   },
   "source": [
    "<center><img src=\"https://ericecmorlaix.github.io/img/DU-ESNSI_S5-didactique04.svg\" alt=\"DU-ESNSI_S5-didactique04.svg\" width = 100%  ></center>"
   ]
  },
  {
   "cell_type": "markdown",
   "metadata": {
    "slideshow": {
     "slide_type": "skip"
    }
   },
   "source": [
    "## Analyse critique :\n",
    "\n",
    "Ce n'est pas une application pour passer des ordres en bourse, le temps de sciage est très long.\n",
    "\n",
    "Est-ce qu'une force brute n'est pas envisageable ?\n",
    "\n",
    "Qu'apporterait une programmation dynamique alors ?\n",
    "\n",
    "\n",
    "## Evolutions envisageables :\n",
    "\n",
    "- Correction d'outil ;\n",
    "- Générer du Gcode pour piloter la scie à commande numérique.\n",
    "\n",
    "## Conclusion personnelle :\n",
    "\n",
    "En répondant au bloc 2, avec Loïc, j'ai suivi une démarche qui m'est contre nature, celle de chercher à transposer la solution type d'un problème à un autre.\n",
    "\n",
    "En reprenant notre problème pour le bloc 5, reconduire cette démarche m'amenait à une impasse.\n",
    "> \"Il est certains esprits dont les sombres pensées\n",
    ">\n",
    "> Sont d’un nuage épais toujours embarrassées ; \n",
    ">\n",
    "> Le jour de la raison ne le saurait percer. \n",
    ">\n",
    "> Avant donc que d’écrire apprenez à penser.\"\n",
    ">\n",
    "> Nicolas BOILEAU.\n",
    "\n",
    "J'ai commencé à voir la lumière en repartant d'une feuille blanche. J'ai reposé le problème en discrétisant toutes ces variables d'entrée et en implémentant en python une machine de découpe qui aurait une simple attitude gloutonne (couper systématiquement le plus grand morceau possible nécessaire au respect de la commande) et cela de façon récursive. \n",
    "> \"Ce que l’on conçoit bien s’énonce clairement,\n",
    ">\n",
    "> Et les mots pour le dire arrivent aisément.\"\n",
    ">\n",
    "> Nicolas BOILEAU.\n",
    "\n",
    "Ensuite, c'est en ajoutant de nouvelles variables en entrée (pour permettre plus de flexibilité) puis en rassemblant ces variables unitaires dans des variables de type construit significatives du problème réel qu'une structure plus condensée du programme est apparue. \n",
    "\n",
    "Ce programme pourra être rendu plus modulable encore en définissant des sous-fonctions mais je n'ai pas développée cette piste pour encore car l'objectif de la séquence est de mettre graphiquement en évidence l'inutilité de certains appels récursifs en produisant un plan de débit par commande. Pour cela j'ai envisagé plusieurs voies de solution mais je me suis beaucoup amusé à progressivement développer un script Python pour générer du SVG.\n",
    "\n",
    "Je pressens (pure intuition) que la solution la plus optimale (réduire les chutes) serait une force brute avec un traitement dynamique (réduire les appels récursifs, stocker les longueurs de barres restantes dans une base de données pour les reprendre dans les commandes futures, ...)...\n",
    "Affaire à suivre donc, mais pas dans l'immédiat.\n",
    "> \" Hâtez-vous lentement ; et, sans perdre courage,\n",
    ">\n",
    "> Vingt fois sur le métier remettez votre ouvrage :\n",
    ">\n",
    "> Polissez-le sans cesse et le repolissez ;\n",
    ">\n",
    "> Ajoutez quelquefois, et souvent effacez.\"\n",
    ">\n",
    "> Nicolas BOILEAU.\n"
   ]
  },
  {
   "cell_type": "markdown",
   "metadata": {
    "slideshow": {
     "slide_type": "skip"
    }
   },
   "source": [
    "# Pecha Kucha : d'ISN à NSI\n",
    "\n",
    "Serpenter du point du I d’ISN (logo d’anaconda) en prenant des virages de semaine en semaine, à la rencontre de personnes (certaines se reconnaitront) et d’animaux étranges, tous hybrides, en détricotant ISN pour mieux retricoter NSI.\n",
    "\n",
    "\n",
    "Reste à poser le point final sur le I de NSI..."
   ]
  },
  {
   "cell_type": "markdown",
   "metadata": {
    "slideshow": {
     "slide_type": "slide"
    }
   },
   "source": [
    "<center><img src=\"https://ericecmorlaix.github.io/img/DU-ESNSI_S5-pechakucha.svg\" alt=\"DU-ESNSI_S5-pechakucha.svg\" width = 70%  ></center>"
   ]
  },
  {
   "cell_type": "markdown",
   "metadata": {
    "slideshow": {
     "slide_type": "subslide"
    }
   },
   "source": [
    "## Aparté :\n",
    "\n",
    "Quant à la difficulté d’enseigner des notions avancées d’algorithmiques et plus généralement d’informatique à des élèves de lycée :\n",
    "\n",
    "<center><img src=\"https://ericecmorlaix.github.io/img/kay_quote.jpg\" alt=\"kay_quote.jpg\" width = 70%  ></center>\n",
    "\n",
    "-\t**Une piste à éviter** : tout comme je ne vais pas leur apprendre le Chinois (ou le Coréen) pour leur expliquer l’informatique, je dois m’interdire de m’appuyer sur un formalisme (notation) de Mathématiques qu’ils ne possèdent pas déjà (= niveau moyen de fin de seconde) ;\n",
    "-\t**Une piste potentielle** : cette citation attribuée à **Alan KAY**\n",
    "\n",
    "=> Posture : Analyser la façon dont j'ai appris, séparer le bon grain de l'ivraie, et pour le bon grain, me demander quel vecteur adapté aux élèves serait aujourd'hui le plus efficace."
   ]
  },
  {
   "cell_type": "code",
   "execution_count": null,
   "metadata": {},
   "outputs": [],
   "source": []
  }
 ],
 "metadata": {
  "celltoolbar": "Diaporama",
  "kernelspec": {
   "display_name": "Python 3",
   "language": "python",
   "name": "python3"
  },
  "language_info": {
   "codemirror_mode": {
    "name": "ipython",
    "version": 3
   },
   "file_extension": ".py",
   "mimetype": "text/x-python",
   "name": "python",
   "nbconvert_exporter": "python",
   "pygments_lexer": "ipython3",
   "version": "3.7.3"
  },
  "varInspector": {
   "cols": {
    "lenName": 16,
    "lenType": 16,
    "lenVar": 40
   },
   "kernels_config": {
    "python": {
     "delete_cmd_postfix": "",
     "delete_cmd_prefix": "del ",
     "library": "var_list.py",
     "varRefreshCmd": "print(var_dic_list())"
    },
    "r": {
     "delete_cmd_postfix": ") ",
     "delete_cmd_prefix": "rm(",
     "library": "var_list.r",
     "varRefreshCmd": "cat(var_dic_list()) "
    }
   },
   "types_to_exclude": [
    "module",
    "function",
    "builtin_function_or_method",
    "instance",
    "_Feature"
   ],
   "window_display": false
  }
 },
 "nbformat": 4,
 "nbformat_minor": 2
}
