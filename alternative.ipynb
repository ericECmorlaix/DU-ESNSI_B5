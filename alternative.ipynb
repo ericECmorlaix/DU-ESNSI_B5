{
 "cells": [
  {
   "attachments": {},
   "cell_type": "markdown",
   "metadata": {},
   "source": [
    "# Situation de mini-projet en classe de terminale : \n",
    "<center><img src=\"https://ericecmorlaix.github.io/img/DU-ESNSI_S5-contexte_mini-projet_terminale.svg\" alt=\"DU-ESNSI_S5-contexte_mini-projet_terminale.svg\" width = 90% height=100% ></center>"
   ]
  },
  {
   "cell_type": "code",
   "execution_count": null,
   "metadata": {},
   "outputs": [],
   "source": [
    "def decoupe(r, L, l, n, a, b, c, d) :\n",
    "    \n",
    "    \n",
    "    \n",
    "    L = round(L - l, 1)\n",
    "    \n",
    "    if L < 0.6 :\n",
    "        r = round(r + L,1)\n",
    "        n = n + 1\n",
    "        return decoupe(r, 3.0, 0.0, n, a, b, c, d)\n",
    "    elif L < 0.8 and a > 0 :\n",
    "        a = a - 1\n",
    "        return decoupe(r, L, 0.6, n, a, b, c, d)\n",
    "    elif L < 1.1 and b > 0 :\n",
    "        b = b - 1\n",
    "        return decoupe(r, L, 0.8, n, a, b, c, d)\n",
    "    elif L < 2.3 and c > 0 :\n",
    "        c = c - 1\n",
    "        return decoupe(r, L, 1.1, n, a, b, c, d)\n",
    "    else :\n",
    "        if d > 0 :\n",
    "            d = d - 1\n",
    "            return decoupe(r, L, 2.3, n, a, b, c, d)\n",
    "        elif c > 0 :\n",
    "            c = c - 1\n",
    "            return decoupe(r, L, 1.1, n, a, b, c, d)\n",
    "        elif b > 0 :\n",
    "            b = b - 1\n",
    "            return decoupe(r, L, 0.8, n, a, b, c, d)\n",
    "        elif a > 0 :\n",
    "            a = a - 1\n",
    "            return decoupe(r, L, 0.6, n, a, b, c, d)\n",
    "        else :\n",
    "            return print(f\"Commande terminée en {n} barres, avec un restachou total de {r} mètres, et une barre entammée de longueur restante {L} mètre\")\n",
    "        "
   ]
  },
  {
   "cell_type": "code",
   "execution_count": null,
   "metadata": {},
   "outputs": [],
   "source": [
    "decoupe(0.0, 3.0, 0.0, 1, 3, 2, 3, 1)"
   ]
  },
  {
   "cell_type": "code",
   "execution_count": null,
   "metadata": {},
   "outputs": [],
   "source": [
    "decoupe(0.0, 3.0, 0.0, 1, 6, 5, 8, 3)"
   ]
  },
  {
   "cell_type": "markdown",
   "metadata": {},
   "source": [
    "# Travail à réaliser à partir du code proposé ci-dessus :\n",
    "<br>\n",
    "<center><img src=\"https://ericecmorlaix.github.io/img/DU-ESNSI_S5-didactique.svg\" alt=\"DU-ESNSI_S5-didactique.svg\" width = 90% height=100% ></center>"
   ]
  },
  {
   "cell_type": "code",
   "execution_count": null,
   "metadata": {},
   "outputs": [],
   "source": []
  }
 ],
 "metadata": {
  "celltoolbar": "Aucun(e)",
  "kernelspec": {
   "display_name": "Python 3",
   "language": "python",
   "name": "python3"
  },
  "language_info": {
   "codemirror_mode": {
    "name": "ipython",
    "version": 3
   },
   "file_extension": ".py",
   "mimetype": "text/x-python",
   "name": "python",
   "nbconvert_exporter": "python",
   "pygments_lexer": "ipython3",
   "version": "3.7.3"
  },
  "varInspector": {
   "cols": {
    "lenName": 16,
    "lenType": 16,
    "lenVar": 40
   },
   "kernels_config": {
    "python": {
     "delete_cmd_postfix": "",
     "delete_cmd_prefix": "del ",
     "library": "var_list.py",
     "varRefreshCmd": "print(var_dic_list())"
    },
    "r": {
     "delete_cmd_postfix": ") ",
     "delete_cmd_prefix": "rm(",
     "library": "var_list.r",
     "varRefreshCmd": "cat(var_dic_list()) "
    }
   },
   "types_to_exclude": [
    "module",
    "function",
    "builtin_function_or_method",
    "instance",
    "_Feature"
   ],
   "window_display": false
  }
 },
 "nbformat": 4,
 "nbformat_minor": 2
}
